{
 "cells": [
  {
   "cell_type": "code",
   "execution_count": 22,
   "metadata": {},
   "outputs": [],
   "source": [
    "%matplotlib inline\n",
    "import tensorflow as tf\n",
    "import numpy as np\n",
    "import matplotlib.pyplot as plt\n"
   ]
  },
  {
   "cell_type": "code",
   "execution_count": 23,
   "metadata": {},
   "outputs": [],
   "source": [
    "train_X=np.linspace(-1,1,100)\n",
    "train_Y = 2*train_X+np.random.randn(*train_X.shape)*0.3"
   ]
  },
  {
   "cell_type": "code",
   "execution_count": 24,
   "metadata": {},
   "outputs": [
    {
     "data": {
      "image/png": "[encoded data removed]",
      "text/plain": [
       "<matplotlib.figure.Figure at 0x7662090>"
      ]
     },
     "metadata": {},
     "output_type": "display_data"
    }
   ],
   "source": [
    "plt.plot(train_X,train_Y,'ro',label='Original data')\n",
    "plt.legend()\n",
    "plt.show()"
   ]
  },
  {
   "cell_type": "code",
   "execution_count": 25,
   "metadata": {},
   "outputs": [],
   "source": [
    "#模型\n",
    "X=tf.placeholder('float')\n",
    "Y=tf.placeholder('float')\n",
    "W=tf.Variable(tf.random_normal([1]),name='weight')\n",
    "b=tf.Variable(tf.zeros([1]),name='bias')\n",
    "z=tf.multiply(X,W)+b\n"
   ]
  },
  {
   "cell_type": "code",
   "execution_count": 26,
   "metadata": {},
   "outputs": [],
   "source": [
    "#反向优化\n",
    "cost=tf.reduce_mean(tf.square(Y-z))\n",
    "learning_rate=0.01\n",
    "optimizer=tf.train.GradientDescentOptimizer(learning_rate).minimize(cost)"
   ]
  },
  {
   "cell_type": "code",
   "execution_count": 28,
   "metadata": {},
   "outputs": [
    {
     "name": "stdout",
     "output_type": "stream",
     "text": [
      "epoch 1 cost 1.23299 w [ 0.38083407] b [ 0.46556467]\n",
      "epoch 3 cost 0.178437 w [ 1.58648872] b [ 0.14032377]\n",
      "epoch 5 cost 0.0951061 w [ 1.91318262] b [ 0.01726923]\n",
      "epoch 7 cost 0.0902817 w [ 1.9979074] b [-0.01520459]\n",
      "epoch 9 cost 0.0901719 w [ 2.01981997] b [-0.02361275]\n",
      "epoch 11 cost 0.0902196 w [ 2.02548456] b [-0.02578662]\n",
      "epoch 13 cost 0.090237 w [ 2.02695036] b [-0.02634904]\n",
      "epoch 15 cost 0.0902418 w [ 2.02732849] b [-0.0264941]\n",
      "epoch 17 cost 0.0902431 w [ 2.02742696] b [-0.02653185]\n",
      "epoch 19 cost 0.0902435 w [ 2.02745223] b [-0.02654146]\n",
      "finished!\n",
      "cost= 0.0902435 w= [ 2.02745605] b= [-0.02654304]\n"
     ]
    },
    {
     "data": {
      "image/png": "[encoded data removed]",
      "text/plain": [
       "<matplotlib.figure.Figure at 0x6c44210>"
      ]
     },
     "metadata": {},
     "output_type": "display_data"
    },
    {
     "name": "stdout",
     "output_type": "stream",
     "text": [
      "x=0.2,z= [ 0.37894815]\n"
     ]
    }
   ],
   "source": [
    "#xunlian\n",
    "init = tf.global_variables_initializer()\n",
    "traning_apochs = 20\n",
    "display_step=2\n",
    "\n",
    "#保存模型\n",
    "saver = tf.train.Saver()\n",
    "savedir = 'log/'\n",
    "\n",
    "with tf.Session() as sess:\n",
    "    sess.run(init)\n",
    "    plotdata={\n",
    "        'batchsize':[],\n",
    "        'loss':[],\n",
    "    }\n",
    "    for epoch in range(traning_apochs):\n",
    "        for (x,y) in zip(train_X,train_Y):\n",
    "            sess.run(optimizer,feed_dict={X:x,Y:y})\n",
    "        if epoch % display_step == 0:\n",
    "            loss=sess.run(cost,feed_dict={X:train_X,Y:train_Y})\n",
    "            print 'epoch',epoch+1,'cost',loss,'w',sess.run(W),'b',sess.run(b)\n",
    "    print \"finished!\"\n",
    "    #保存模型\n",
    "    \n",
    "    saver.save(sess,savedir+'linear_regressionmodel.cpkt')\n",
    "    print'cost=',sess.run(cost,feed_dict={X:train_X,Y:train_Y}),'w=',sess.run(W),'b=',sess.run(b)\n",
    "    #\n",
    "    plt.plot(train_X,train_Y,'ro',label='original data')\n",
    "    plt.plot(train_X,sess.run(W)*train_X+sess.run(b),label='fittedline')\n",
    "    plt.legend()\n",
    "    plt.show()\n",
    "    \n",
    "    #ceshi\n",
    "    print 'x=0.2,z=',sess.run(z,feed_dict={X:0.2})"
   ]
  },
  {
   "cell_type": "code",
   "execution_count": 36,
   "metadata": {},
   "outputs": [
    {
     "name": "stdout",
     "output_type": "stream",
     "text": [
      "INFO:tensorflow:Restoring parameters from log/linear_regressionmodel.cpkt\n",
      "x=0.2,z= [ 0.43973801]\n"
     ]
    }
   ],
   "source": [
    "#模型的载入\n",
    "with tf.Session() as sess2:\n",
    "    sess2.run(tf.global_variables_initializer())\n",
    "    saver.restore(sess2,savedir+'linear_regressionmodel.cpkt')\n",
    "    print \"x=0.2,z=\",sess2.run(z,feed_dict={X:0.2})"
   ]
  },
  {
   "cell_type": "code",
   "execution_count": null,
   "metadata": {},
   "outputs": [],
   "source": [
    "\n",
    "\n"
   ]
  },
  {
   "cell_type": "code",
   "execution_count": null,
   "metadata": {},
   "outputs": [],
   "source": []
  },
  {
   "cell_type": "code",
   "execution_count": null,
   "metadata": {},
   "outputs": [],
   "source": []
  },
  {
   "cell_type": "code",
   "execution_count": null,
   "metadata": {},
   "outputs": [],
   "source": []
  },
  {
   "cell_type": "code",
   "execution_count": null,
   "metadata": {},
   "outputs": [],
   "source": []
  },
  {
   "cell_type": "code",
   "execution_count": null,
   "metadata": {},
   "outputs": [],
   "source": []
  },
  {
   "cell_type": "code",
   "execution_count": null,
   "metadata": {},
   "outputs": [],
   "source": []
  },
  {
   "cell_type": "code",
   "execution_count": null,
   "metadata": {},
   "outputs": [],
   "source": []
  },
  {
   "cell_type": "code",
   "execution_count": null,
   "metadata": {},
   "outputs": [],
   "source": []
  },
  {
   "cell_type": "code",
   "execution_count": null,
   "metadata": {},
   "outputs": [],
   "source": []
  },
  {
   "cell_type": "code",
   "execution_count": null,
   "metadata": {},
   "outputs": [],
   "source": []
  },
  {
   "cell_type": "code",
   "execution_count": null,
   "metadata": {},
   "outputs": [],
   "source": []
  }
 ],
 "metadata": {
  "kernelspec": {
   "display_name": "Python 2",
   "language": "python",
   "name": "python2"
  },
  "language_info": {
   "codemirror_mode": {
    "name": "ipython",
    "version": 2
   },
   "file_extension": ".py",
   "mimetype": "text/x-python",
   "name": "python",
   "nbconvert_exporter": "python",
   "pygments_lexer": "ipython2",
   "version": "2.7.5"
  }
 },
 "nbformat": 4,
 "nbformat_minor": 2
}
