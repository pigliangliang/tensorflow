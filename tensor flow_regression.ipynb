{
 "cells": [
  {
   "cell_type": "code",
   "execution_count": 6,
   "metadata": {},
   "outputs": [],
   "source": [
    "%matplotlib inline\n",
    "import tensorflow as tf\n",
    "import numpy as np\n",
    "import matplotlib.pyplot as plt\n"
   ]
  },
  {
   "cell_type": "code",
   "execution_count": 7,
   "metadata": {},
   "outputs": [],
   "source": [
    "train_X=np.linspace(-1,1,100)\n",
    "train_Y = 2*train_X+np.random.randn(*train_X.shape)*0.3"
   ]
  },
  {
   "cell_type": "code",
   "execution_count": 8,
   "metadata": {},
   "outputs": [
    {
     "data": {
      "image/png": "[encoded data removed]",
      "text/plain": [
       "<matplotlib.figure.Figure at 0x4a5d150>"
      ]
     },
     "metadata": {},
     "output_type": "display_data"
    }
   ],
   "source": [
    "plt.plot(train_X,train_Y,'ro',label='Original data')\n",
    "plt.legend()\n",
    "plt.show()"
   ]
  },
  {
   "cell_type": "code",
   "execution_count": 9,
   "metadata": {},
   "outputs": [],
   "source": [
    "#模型\n",
    "X=tf.placeholder('float')\n",
    "Y=tf.placeholder('float')\n",
    "W=tf.Variable(tf.random_normal([1]),name='weight')\n",
    "b=tf.Variable(tf.zeros([1]),name='bias')\n",
    "z=tf.multiply(X,W)+b\n"
   ]
  },
  {
   "cell_type": "code",
   "execution_count": 10,
   "metadata": {},
   "outputs": [],
   "source": [
    "#反向优化\n",
    "cost=tf.reduce_mean(tf.square(Y-z))\n",
    "learning_rate=0.01\n",
    "optimizer=tf.train.GradientDescentOptimizer(learning_rate).minimize(cost)"
   ]
  },
  {
   "cell_type": "code",
   "execution_count": 29,
   "metadata": {},
   "outputs": [
    {
     "name": "stdout",
     "output_type": "stream",
     "text": [
      "epoch 1 cost 0.354204 w [ 1.2371856] b [ 0.2007484]\n",
      "epoch 3 cost 0.128675 w [ 1.77198172] b [ 0.05573925]\n",
      "epoch 5 cost 0.10744 w [ 1.91681361] b [ 0.00117396]\n",
      "epoch 7 cost 0.105231 w [ 1.95437324] b [-0.01322226]\n",
      "epoch 9 cost 0.104884 w [ 1.96408617] b [-0.0169494]\n",
      "epoch 11 cost 0.104809 w [ 1.96659875] b [-0.01791344]\n",
      "epoch 13 cost 0.10479 w [ 1.96724772] b [-0.01816245]\n",
      "epoch 15 cost 0.104786 w [ 1.96741521] b [-0.01822678]\n",
      "epoch 17 cost 0.104785 w [ 1.96745861] b [-0.01824348]\n",
      "epoch 19 cost 0.104784 w [ 1.96746981] b [-0.01824777]\n",
      "finished!\n",
      "cost= 0.104784 w= [ 1.9674722] b= [-0.01824859]\n"
     ]
    },
    {
     "data": {
      "image/png": "[encoded data removed]",
      "text/plain": [
       "<matplotlib.figure.Figure at 0x7f51f4026990>"
      ]
     },
     "metadata": {},
     "output_type": "display_data"
    },
    {
     "name": "stdout",
     "output_type": "stream",
     "text": [
      "x=0.2,z= [ 0.37524587]\n"
     ]
    }
   ],
   "source": [
    "#xunlian\n",
    "init = tf.global_variables_initializer()\n",
    "traning_apochs = 20\n",
    "display_step=2\n",
    "\n",
    "with tf.Session() as sess:\n",
    "    sess.run(init)\n",
    "    plotdata={\n",
    "        'batchsize':[],\n",
    "        'loss':[],\n",
    "    }\n",
    "    for epoch in range(traning_apochs):\n",
    "        for (x,y) in zip(train_X,train_Y):\n",
    "            sess.run(optimizer,feed_dict={X:x,Y:y})\n",
    "        if epoch % display_step == 0:\n",
    "            loss=sess.run(cost,feed_dict={X:train_X,Y:train_Y})\n",
    "            print 'epoch',epoch+1,'cost',loss,'w',sess.run(W),'b',sess.run(b)\n",
    "    print \"finished!\"\n",
    "    print'cost=',sess.run(cost,feed_dict={X:train_X,Y:train_Y}),'w=',sess.run(W),'b=',sess.run(b)\n",
    "    #\n",
    "    plt.plot(train_X,train_Y,'ro',label='original data')\n",
    "    plt.plot(train_X,sess.run(W)*train_X+sess.run(b),label='fittedline')\n",
    "    plt.legend()\n",
    "    plt.show()\n",
    "    \n",
    "    #ceshi\n",
    "    print 'x=0.2,z=',sess.run(z,feed_dict={X:0.2})"
   ]
  },
  {
   "cell_type": "code",
   "execution_count": null,
   "metadata": {},
   "outputs": [],
   "source": []
  },
  {
   "cell_type": "code",
   "execution_count": null,
   "metadata": {},
   "outputs": [],
   "source": []
  },
  {
   "cell_type": "code",
   "execution_count": null,
   "metadata": {},
   "outputs": [],
   "source": []
  },
  {
   "cell_type": "code",
   "execution_count": null,
   "metadata": {},
   "outputs": [],
   "source": []
  },
  {
   "cell_type": "code",
   "execution_count": null,
   "metadata": {},
   "outputs": [],
   "source": []
  },
  {
   "cell_type": "code",
   "execution_count": null,
   "metadata": {},
   "outputs": [],
   "source": []
  },
  {
   "cell_type": "code",
   "execution_count": null,
   "metadata": {},
   "outputs": [],
   "source": []
  },
  {
   "cell_type": "code",
   "execution_count": null,
   "metadata": {},
   "outputs": [],
   "source": []
  },
  {
   "cell_type": "code",
   "execution_count": null,
   "metadata": {},
   "outputs": [],
   "source": []
  },
  {
   "cell_type": "code",
   "execution_count": null,
   "metadata": {},
   "outputs": [],
   "source": []
  },
  {
   "cell_type": "code",
   "execution_count": null,
   "metadata": {},
   "outputs": [],
   "source": []
  },
  {
   "cell_type": "code",
   "execution_count": null,
   "metadata": {},
   "outputs": [],
   "source": []
  },
  {
   "cell_type": "code",
   "execution_count": null,
   "metadata": {},
   "outputs": [],
   "source": []
  }
 ],
 "metadata": {
  "kernelspec": {
   "display_name": "Python 2",
   "language": "python",
   "name": "python2"
  },
  "language_info": {
   "codemirror_mode": {
    "name": "ipython",
    "version": 2
   },
   "file_extension": ".py",
   "mimetype": "text/x-python",
   "name": "python",
   "nbconvert_exporter": "python",
   "pygments_lexer": "ipython2",
   "version": "2.7.5"
  }
 },
 "nbformat": 4,
 "nbformat_minor": 2
}
